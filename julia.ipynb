{
 "cells": [
  {
   "cell_type": "markdown",
   "metadata": {},
   "source": [
    "# Abacus.jl\n",
    "\n",
    "-----\n",
    "\n",
    "Instructions:\n",
    "\n",
    "+ click `Cell` in above navbar \n",
    "+ select `Run All` to play game"
   ]
  },
  {
   "cell_type": "code",
   "execution_count": null,
   "metadata": {},
   "outputs": [],
   "source": [
    "using Abacus"
   ]
  },
  {
   "cell_type": "code",
   "execution_count": null,
   "metadata": {},
   "outputs": [],
   "source": [
    "function foo()\n",
    "  for cur_index in 99:-1:0\n",
    "    print(\"$(cur_index) bottles of beer on the wall. \")\n",
    "    println(\"$(cur_index) bottles of beer.\")\n",
    "    println(\"Take one down. Pass it around.\")\n",
    "    sleep(0.5)\n",
    "  end\n",
    "end"
   ]
  },
  {
   "cell_type": "code",
   "execution_count": null,
   "metadata": {},
   "outputs": [],
   "source": [
    "@abacus foo()"
   ]
  }
 ],
 "metadata": {
  "kernelspec": {
   "display_name": "Julia 0.6.2",
   "language": "julia",
   "name": "julia-0.6"
  },
  "language_info": {
   "file_extension": ".jl",
   "mimetype": "application/julia",
   "name": "julia",
   "version": "0.6.2"
  }
 },
 "nbformat": 4,
 "nbformat_minor": 2
}
